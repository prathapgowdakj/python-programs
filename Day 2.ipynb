{
 "cells": [
  {
   "cell_type": "markdown",
   "id": "3ee4b147",
   "metadata": {},
   "source": [
    "#Strings in Detail"
   ]
  },
  {
   "cell_type": "code",
   "execution_count": 2,
   "id": "c144908d",
   "metadata": {},
   "outputs": [],
   "source": [
    "name = \"prathap gowda\""
   ]
  },
  {
   "cell_type": "code",
   "execution_count": 3,
   "id": "ea4ee9a6",
   "metadata": {},
   "outputs": [
    {
     "data": {
      "text/plain": [
       "2"
      ]
     },
     "execution_count": 3,
     "metadata": {},
     "output_type": "execute_result"
    }
   ],
   "source": [
    "name.index(\"a\")"
   ]
  },
  {
   "cell_type": "code",
   "execution_count": 4,
   "id": "cbb94ddd",
   "metadata": {},
   "outputs": [],
   "source": [
    "adress = \"mandya kachigere\""
   ]
  },
  {
   "cell_type": "code",
   "execution_count": 8,
   "id": "e07fdcdf",
   "metadata": {},
   "outputs": [
    {
     "name": "stdout",
     "output_type": "stream",
     "text": [
      "adress\n"
     ]
    }
   ],
   "source": [
    "print(\"adress\")"
   ]
  },
  {
   "cell_type": "code",
   "execution_count": 9,
   "id": "6fc6fbc7",
   "metadata": {},
   "outputs": [],
   "source": [
    "adress = \"kachigere prathap\""
   ]
  },
  {
   "cell_type": "code",
   "execution_count": 10,
   "id": "b904a164",
   "metadata": {},
   "outputs": [
    {
     "data": {
      "text/plain": [
       "'kachigere prathap'"
      ]
     },
     "execution_count": 10,
     "metadata": {},
     "output_type": "execute_result"
    }
   ],
   "source": [
    "adress"
   ]
  },
  {
   "cell_type": "code",
   "execution_count": 11,
   "id": "96da54d2",
   "metadata": {},
   "outputs": [],
   "source": [
    "# concatinate the string together ->"
   ]
  },
  {
   "cell_type": "code",
   "execution_count": 13,
   "id": "8cee2dbf",
   "metadata": {},
   "outputs": [
    {
     "data": {
      "text/plain": [
       "'prathapgowda kachigere prathap'"
      ]
     },
     "execution_count": 13,
     "metadata": {},
     "output_type": "execute_result"
    }
   ],
   "source": [
    "name + \" \" + adress"
   ]
  },
  {
   "cell_type": "code",
   "execution_count": 15,
   "id": "b60daeb8",
   "metadata": {},
   "outputs": [
    {
     "data": {
      "text/plain": [
       "['prathapgowda']"
      ]
     },
     "execution_count": 15,
     "metadata": {},
     "output_type": "execute_result"
    }
   ],
   "source": [
    "name.split()"
   ]
  },
  {
   "cell_type": "code",
   "execution_count": 16,
   "id": "1524dd0b",
   "metadata": {},
   "outputs": [
    {
     "data": {
      "text/plain": [
       "'g'"
      ]
     },
     "execution_count": 16,
     "metadata": {},
     "output_type": "execute_result"
    }
   ],
   "source": [
    "name[7]"
   ]
  },
  {
   "cell_type": "code",
   "execution_count": 17,
   "id": "17c396fe",
   "metadata": {},
   "outputs": [],
   "source": [
    "# Assignment No.1 "
   ]
  },
  {
   "cell_type": "code",
   "execution_count": 18,
   "id": "cd8b4589",
   "metadata": {},
   "outputs": [
    {
     "data": {
      "text/plain": [
       "'Try five different function on string'"
      ]
     },
     "execution_count": 18,
     "metadata": {},
     "output_type": "execute_result"
    }
   ],
   "source": [
    "\"Try five different function on string\" "
   ]
  },
  {
   "cell_type": "markdown",
   "id": "a2029b41",
   "metadata": {},
   "source": [
    "# List"
   ]
  },
  {
   "cell_type": "code",
   "execution_count": 19,
   "id": "32a2187a",
   "metadata": {},
   "outputs": [],
   "source": [
    "# what is list ?"
   ]
  },
  {
   "cell_type": "code",
   "execution_count": 21,
   "id": "52259c80",
   "metadata": {},
   "outputs": [],
   "source": [
    "# List are collection of data type which can holds strings int float and sub string also"
   ]
  },
  {
   "cell_type": "code",
   "execution_count": 24,
   "id": "08db70dd",
   "metadata": {},
   "outputs": [],
   "source": [
    "lst = [1,2,3,4,\"prathap\",\"bit\",5.6 ,4.2]"
   ]
  },
  {
   "cell_type": "code",
   "execution_count": 25,
   "id": "780160f5",
   "metadata": {},
   "outputs": [
    {
     "data": {
      "text/plain": [
       "[1, 2, 3, 4, 'prathap', 'bit', 5.6, 4.2]"
      ]
     },
     "execution_count": 25,
     "metadata": {},
     "output_type": "execute_result"
    }
   ],
   "source": [
    "lst"
   ]
  },
  {
   "cell_type": "code",
   "execution_count": 26,
   "id": "17b36f11",
   "metadata": {},
   "outputs": [
    {
     "data": {
      "text/plain": [
       "list"
      ]
     },
     "execution_count": 26,
     "metadata": {},
     "output_type": "execute_result"
    }
   ],
   "source": [
    "type(lst)"
   ]
  },
  {
   "cell_type": "code",
   "execution_count": 27,
   "id": "554238fa",
   "metadata": {},
   "outputs": [
    {
     "data": {
      "text/plain": [
       "'bit'"
      ]
     },
     "execution_count": 27,
     "metadata": {},
     "output_type": "execute_result"
    }
   ],
   "source": [
    "lst[5]"
   ]
  },
  {
   "cell_type": "code",
   "execution_count": 28,
   "id": "686e9cd1",
   "metadata": {},
   "outputs": [
    {
     "data": {
      "text/plain": [
       "4.2"
      ]
     },
     "execution_count": 28,
     "metadata": {},
     "output_type": "execute_result"
    }
   ],
   "source": [
    "lst[-1] # last element of list"
   ]
  },
  {
   "cell_type": "code",
   "execution_count": 39,
   "id": "3def6955",
   "metadata": {},
   "outputs": [],
   "source": [
    "lst = [1,2,3,4,\"prathap\",\"bit\",5.6,[\"be\",\"engineering\"] ,4.2] #sub string"
   ]
  },
  {
   "cell_type": "code",
   "execution_count": 30,
   "id": "515d548d",
   "metadata": {},
   "outputs": [
    {
     "data": {
      "text/plain": [
       "[1, 2, 3, 4, 'prathap', 'bit', 5.6, ['be', 'engineering'], 4.2]"
      ]
     },
     "execution_count": 30,
     "metadata": {},
     "output_type": "execute_result"
    }
   ],
   "source": [
    "lst"
   ]
  },
  {
   "cell_type": "code",
   "execution_count": 32,
   "id": "847012bd",
   "metadata": {},
   "outputs": [
    {
     "data": {
      "text/plain": [
       "5.6"
      ]
     },
     "execution_count": 32,
     "metadata": {},
     "output_type": "execute_result"
    }
   ],
   "source": [
    "lst[6]"
   ]
  },
  {
   "cell_type": "code",
   "execution_count": 36,
   "id": "8bc5f704",
   "metadata": {},
   "outputs": [
    {
     "data": {
      "text/plain": [
       "'engineering'"
      ]
     },
     "execution_count": 36,
     "metadata": {},
     "output_type": "execute_result"
    }
   ],
   "source": [
    "lst[7][1]"
   ]
  },
  {
   "cell_type": "code",
   "execution_count": 38,
   "id": "cebadc77",
   "metadata": {},
   "outputs": [
    {
     "data": {
      "text/plain": [
       "'be'"
      ]
     },
     "execution_count": 38,
     "metadata": {},
     "output_type": "execute_result"
    }
   ],
   "source": [
    "lst[-2][-2]"
   ]
  },
  {
   "cell_type": "code",
   "execution_count": 41,
   "id": "4865169f",
   "metadata": {},
   "outputs": [
    {
     "data": {
      "text/plain": [
       "[1, 2, 3, 4, 'prathap', 'bit', 5.6, ['be', 'engineering'], 4.2, 'last']"
      ]
     },
     "execution_count": 41,
     "metadata": {},
     "output_type": "execute_result"
    }
   ],
   "source": [
    "lst"
   ]
  },
  {
   "cell_type": "code",
   "execution_count": 42,
   "id": "d2fbaee2",
   "metadata": {},
   "outputs": [],
   "source": [
    "lst.append(\"last\")"
   ]
  },
  {
   "cell_type": "code",
   "execution_count": 44,
   "id": "5ce0c02d",
   "metadata": {},
   "outputs": [
    {
     "data": {
      "text/plain": [
       "[1, 2, 3, 4, 'prathap', 'bit', 5.6, ['be', 'engineering'], 4.2, 'last', 'last']"
      ]
     },
     "execution_count": 44,
     "metadata": {},
     "output_type": "execute_result"
    }
   ],
   "source": [
    "lst"
   ]
  },
  {
   "cell_type": "code",
   "execution_count": 48,
   "id": "0cf31e67",
   "metadata": {},
   "outputs": [],
   "source": [
    "lst.insert(0,\"first\") # adding element to first index"
   ]
  },
  {
   "cell_type": "code",
   "execution_count": 47,
   "id": "73a656bb",
   "metadata": {},
   "outputs": [
    {
     "data": {
      "text/plain": [
       "['first',\n",
       " 1,\n",
       " 2,\n",
       " 3,\n",
       " 4,\n",
       " 'prathap',\n",
       " 'bit',\n",
       " 5.6,\n",
       " ['be', 'engineering'],\n",
       " 4.2,\n",
       " 'last',\n",
       " 'last']"
      ]
     },
     "execution_count": 47,
     "metadata": {},
     "output_type": "execute_result"
    }
   ],
   "source": [
    "lst"
   ]
  },
  {
   "cell_type": "code",
   "execution_count": 1,
   "id": "6dc40298",
   "metadata": {},
   "outputs": [],
   "source": [
    "# assignement no 2"
   ]
  },
  {
   "cell_type": "code",
   "execution_count": 2,
   "id": "b1ec5791",
   "metadata": {},
   "outputs": [
    {
     "data": {
      "text/plain": [
       "'try five different function of list objects in python'"
      ]
     },
     "execution_count": 2,
     "metadata": {},
     "output_type": "execute_result"
    }
   ],
   "source": [
    "\"try five different function of list objects in python\""
   ]
  },
  {
   "cell_type": "markdown",
   "id": "49d5f447",
   "metadata": {},
   "source": [
    "# Tuples"
   ]
  },
  {
   "cell_type": "code",
   "execution_count": 3,
   "id": "a694ff4d",
   "metadata": {},
   "outputs": [],
   "source": [
    "# tuples are immutable and they are not editable after once it is declered"
   ]
  },
  {
   "cell_type": "code",
   "execution_count": 4,
   "id": "00ec08ec",
   "metadata": {},
   "outputs": [],
   "source": [
    "tup = (\"we\",\"love\",\"india\")"
   ]
  },
  {
   "cell_type": "code",
   "execution_count": 5,
   "id": "20f438ee",
   "metadata": {},
   "outputs": [
    {
     "data": {
      "text/plain": [
       "('we', 'love', 'india')"
      ]
     },
     "execution_count": 5,
     "metadata": {},
     "output_type": "execute_result"
    }
   ],
   "source": [
    "tup"
   ]
  },
  {
   "cell_type": "code",
   "execution_count": 6,
   "id": "4a9d3a8c",
   "metadata": {},
   "outputs": [
    {
     "data": {
      "text/plain": [
       "1"
      ]
     },
     "execution_count": 6,
     "metadata": {},
     "output_type": "execute_result"
    }
   ],
   "source": [
    "tup.count(\"love\")"
   ]
  },
  {
   "cell_type": "code",
   "execution_count": 7,
   "id": "a6ba9e6e",
   "metadata": {},
   "outputs": [
    {
     "data": {
      "text/plain": [
       "1"
      ]
     },
     "execution_count": 7,
     "metadata": {},
     "output_type": "execute_result"
    }
   ],
   "source": [
    "tup.index(\"love\")"
   ]
  },
  {
   "cell_type": "code",
   "execution_count": 8,
   "id": "d21df375",
   "metadata": {},
   "outputs": [],
   "source": [
    "# where do we use tuples ?"
   ]
  },
  {
   "cell_type": "markdown",
   "id": "d77ffda1",
   "metadata": {},
   "source": [
    "# Dict "
   ]
  },
  {
   "cell_type": "code",
   "execution_count": 9,
   "id": "90dfd2c7",
   "metadata": {},
   "outputs": [],
   "source": [
    "# we use Dict for key value Pair "
   ]
  },
  {
   "cell_type": "code",
   "execution_count": 10,
   "id": "5912f022",
   "metadata": {},
   "outputs": [],
   "source": [
    "dit = {\"key\":\"value\",\"key1\":1,\"key2\":5.6}"
   ]
  },
  {
   "cell_type": "code",
   "execution_count": 11,
   "id": "509e83cb",
   "metadata": {},
   "outputs": [
    {
     "data": {
      "text/plain": [
       "{'key': 'value', 'key1': 1, 'key2': 5.6}"
      ]
     },
     "execution_count": 11,
     "metadata": {},
     "output_type": "execute_result"
    }
   ],
   "source": [
    "dit"
   ]
  },
  {
   "cell_type": "code",
   "execution_count": 13,
   "id": "b295ad32",
   "metadata": {},
   "outputs": [
    {
     "data": {
      "text/plain": [
       "'value'"
      ]
     },
     "execution_count": 13,
     "metadata": {},
     "output_type": "execute_result"
    }
   ],
   "source": [
    "dit[\"key\"]"
   ]
  },
  {
   "cell_type": "code",
   "execution_count": 14,
   "id": "1d1d068c",
   "metadata": {},
   "outputs": [
    {
     "data": {
      "text/plain": [
       "5.6"
      ]
     },
     "execution_count": 14,
     "metadata": {},
     "output_type": "execute_result"
    }
   ],
   "source": [
    "dit[\"key2\"]"
   ]
  },
  {
   "cell_type": "code",
   "execution_count": 15,
   "id": "9e94db7e",
   "metadata": {},
   "outputs": [],
   "source": [
    "ditperson = {\"name\":\"prathapgowda\",\"age\":21,\"pnone no\":7338539558}"
   ]
  },
  {
   "cell_type": "code",
   "execution_count": 16,
   "id": "568bacf1",
   "metadata": {},
   "outputs": [
    {
     "data": {
      "text/plain": [
       "{'name': 'prathapgowda', 'age': 21, 'pnone no': 7338539558}"
      ]
     },
     "execution_count": 16,
     "metadata": {},
     "output_type": "execute_result"
    }
   ],
   "source": [
    "ditperson"
   ]
  },
  {
   "cell_type": "code",
   "execution_count": 18,
   "id": "ce883dbc",
   "metadata": {},
   "outputs": [
    {
     "data": {
      "text/plain": [
       "'prathapgowda'"
      ]
     },
     "execution_count": 18,
     "metadata": {},
     "output_type": "execute_result"
    }
   ],
   "source": [
    "ditperson[\"name\"]"
   ]
  },
  {
   "cell_type": "code",
   "execution_count": 19,
   "id": "2b3053b4",
   "metadata": {},
   "outputs": [
    {
     "data": {
      "text/plain": [
       "7338539558"
      ]
     },
     "execution_count": 19,
     "metadata": {},
     "output_type": "execute_result"
    }
   ],
   "source": [
    "ditperson[\"pnone no\"]"
   ]
  },
  {
   "cell_type": "code",
   "execution_count": 22,
   "id": "bae9847b",
   "metadata": {},
   "outputs": [
    {
     "data": {
      "text/plain": [
       "21"
      ]
     },
     "execution_count": 22,
     "metadata": {},
     "output_type": "execute_result"
    }
   ],
   "source": [
    "ditperson.get(\"age\")"
   ]
  },
  {
   "cell_type": "code",
   "execution_count": 23,
   "id": "e66d737d",
   "metadata": {},
   "outputs": [],
   "source": [
    "dit1 = {\"subdict\":{\"key1\":1,\"key2\":2}} #sub dict"
   ]
  },
  {
   "cell_type": "code",
   "execution_count": 25,
   "id": "119cf079",
   "metadata": {},
   "outputs": [
    {
     "data": {
      "text/plain": [
       "1"
      ]
     },
     "execution_count": 25,
     "metadata": {},
     "output_type": "execute_result"
    }
   ],
   "source": [
    "dit1[\"subdict\"][\"key1\"]"
   ]
  },
  {
   "cell_type": "code",
   "execution_count": 26,
   "id": "99d4ca7b",
   "metadata": {},
   "outputs": [],
   "source": [
    "# assignement 3 = Experement with 5 default function of dict"
   ]
  },
  {
   "cell_type": "markdown",
   "id": "ed222320",
   "metadata": {},
   "source": [
    "# if else and elif "
   ]
  },
  {
   "cell_type": "code",
   "execution_count": 27,
   "id": "93b9bdb9",
   "metadata": {},
   "outputs": [],
   "source": [
    "# if i want someting .if that is not there then give me this"
   ]
  },
  {
   "cell_type": "code",
   "execution_count": 29,
   "id": "4dc1ac20",
   "metadata": {},
   "outputs": [
    {
     "name": "stdout",
     "output_type": "stream",
     "text": [
      "this is not a 4\n"
     ]
    }
   ],
   "source": [
    "num = 3\n",
    "if num == 4:\n",
    "    print(\"hey this is 4\")\n",
    "else:\n",
    "    print(\"this is not a 4\")"
   ]
  },
  {
   "cell_type": "code",
   "execution_count": 5,
   "id": "7183ee65",
   "metadata": {},
   "outputs": [
    {
     "name": "stdout",
     "output_type": "stream",
     "text": [
      "n is lessthan 40\n"
     ]
    }
   ],
   "source": [
    "n = 39\n",
    "if n<40:\n",
    "    print(\"n is lessthan 40\")\n",
    "elif n==40:\n",
    "    print(\"n is equal to 40\")\n",
    "else:\n",
    "    print(\"n is grater then 40\")"
   ]
  },
  {
   "cell_type": "code",
   "execution_count": null,
   "id": "6380f0e0",
   "metadata": {},
   "outputs": [],
   "source": []
  }
 ],
 "metadata": {
  "kernelspec": {
   "display_name": "Python 3",
   "language": "python",
   "name": "python3"
  },
  "language_info": {
   "codemirror_mode": {
    "name": "ipython",
    "version": 3
   },
   "file_extension": ".py",
   "mimetype": "text/x-python",
   "name": "python",
   "nbconvert_exporter": "python",
   "pygments_lexer": "ipython3",
   "version": "3.8.8"
  }
 },
 "nbformat": 4,
 "nbformat_minor": 5
}
